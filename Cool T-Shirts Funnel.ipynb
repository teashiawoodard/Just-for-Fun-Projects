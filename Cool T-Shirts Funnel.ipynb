{
 "cells": [
  {
   "cell_type": "code",
   "execution_count": 1,
   "id": "fa4b59a2-b81f-4ac3-9bfb-b249055b1e35",
   "metadata": {},
   "outputs": [],
   "source": [
    "#load in pandas and csv files\n",
    "import pandas as pd\n",
    "\n",
    "visits = pd.read_csv('visits.csv',\n",
    "                     parse_dates=[1])\n",
    "cart = pd.read_csv('cart.csv',\n",
    "                   parse_dates=[1])\n",
    "checkout = pd.read_csv('checkout.csv',\n",
    "                       parse_dates=[1])\n",
    "purchase = pd.read_csv('purchase.csv',\n",
    "                       parse_dates=[1])"
   ]
  },
  {
   "cell_type": "code",
   "execution_count": 2,
   "id": "a6060fb0-f905-4b6d-932b-9c21af302cbf",
   "metadata": {},
   "outputs": [
    {
     "name": "stdout",
     "output_type": "stream",
     "text": [
      "                                user_id          visit_time\n",
      "0  943647ef-3682-4750-a2e1-918ba6f16188 2017-04-07 15:14:00\n",
      "1  0c3a3dd0-fb64-4eac-bf84-ba069ce409f2 2017-01-26 14:24:00\n",
      "2  6e0b2d60-4027-4d9a-babd-0e7d40859fb1 2017-08-20 08:23:00\n",
      "3  6879527e-c5a6-4d14-b2da-50b85212b0ab 2017-11-04 18:15:00\n",
      "4  a84327ff-5daa-4ba1-b789-d5b4caf81e96 2017-02-27 11:25:00\n",
      "                                user_id           cart_time\n",
      "0  2be90e7c-9cca-44e0-bcc5-124b945ff168 2017-11-07 20:45:00\n",
      "1  4397f73f-1da3-4ab3-91af-762792e25973 2017-05-27 01:35:00\n",
      "2  a9db3d4b-0a0a-4398-a55a-ebb2c7adf663 2017-03-04 10:38:00\n",
      "3  b594862a-36c5-47d5-b818-6e9512b939b3 2017-09-27 08:22:00\n",
      "4  a68a16e2-94f0-4ce8-8ce3-784af0bbb974 2017-07-26 15:48:00\n",
      "                                user_id       checkout_time\n",
      "0  d33bdc47-4afa-45bc-b4e4-dbe948e34c0d 2017-06-25 09:29:00\n",
      "1  4ac186f0-9954-4fea-8a27-c081e428e34e 2017-04-07 20:11:00\n",
      "2  3c9c78a7-124a-4b77-8d2e-e1926e011e7d 2017-07-13 11:38:00\n",
      "3  89fe330a-8966-4756-8f7c-3bdbcd47279a 2017-04-20 16:15:00\n",
      "4  3ccdaf69-2d30-40de-b083-51372881aedd 2017-01-08 20:52:00\n",
      "                                user_id       purchase_time\n",
      "0  4b44ace4-2721-47a0-b24b-15fbfa2abf85 2017-05-11 04:25:00\n",
      "1  02e684ae-a448-408f-a9ff-dcb4a5c99aac 2017-09-05 08:45:00\n",
      "2  4b4bc391-749e-4b90-ab8f-4f6e3c84d6dc 2017-11-20 20:49:00\n",
      "3  a5dbb25f-3c36-4103-9030-9f7c6241cd8d 2017-01-22 15:18:00\n",
      "4  46a3186d-7f5a-4ab9-87af-84d05bfd4867 2017-06-11 11:32:00\n"
     ]
    }
   ],
   "source": [
    "#inspect all data frames\n",
    "print(visits.head(5))\n",
    "print(cart.head(5))\n",
    "print(checkout.head(5))\n",
    "print(purchase.head(5))"
   ]
  },
  {
   "cell_type": "code",
   "execution_count": 3,
   "id": "25f80b2a-750d-4500-8a01-13d105d42bc1",
   "metadata": {},
   "outputs": [
    {
     "name": "stdout",
     "output_type": "stream",
     "text": [
      "                                   user_id          visit_time  \\\n",
      "0     943647ef-3682-4750-a2e1-918ba6f16188 2017-04-07 15:14:00   \n",
      "1     0c3a3dd0-fb64-4eac-bf84-ba069ce409f2 2017-01-26 14:24:00   \n",
      "2     6e0b2d60-4027-4d9a-babd-0e7d40859fb1 2017-08-20 08:23:00   \n",
      "3     6879527e-c5a6-4d14-b2da-50b85212b0ab 2017-11-04 18:15:00   \n",
      "4     a84327ff-5daa-4ba1-b789-d5b4caf81e96 2017-02-27 11:25:00   \n",
      "...                                    ...                 ...   \n",
      "1995  33913ac2-03da-45ae-8fc3-fea39df827c6 2017-03-25 03:29:00   \n",
      "1996  4f850132-b99d-4623-80e6-6e61d003577e 2017-01-08 09:57:00   \n",
      "1997  f0830b9b-1f5c-4e74-b63d-3f847cc6ce70 2017-09-07 12:56:00   \n",
      "1998  b01bffa7-63ba-4cd3-9d93-eb1477c23831 2017-07-20 04:37:00   \n",
      "1999  0336ca81-8d68-443f-9248-ac0b8ad147d5 2017-11-15 10:11:00   \n",
      "\n",
      "               cart_time  \n",
      "0                    NaT  \n",
      "1    2017-01-26 14:44:00  \n",
      "2    2017-08-20 08:31:00  \n",
      "3                    NaT  \n",
      "4                    NaT  \n",
      "...                  ...  \n",
      "1995                 NaT  \n",
      "1996                 NaT  \n",
      "1997                 NaT  \n",
      "1998                 NaT  \n",
      "1999                 NaT  \n",
      "\n",
      "[2000 rows x 3 columns]\n"
     ]
    }
   ],
   "source": [
    "#left merge visits and cart\n",
    "visits_to_cart = pd.merge(visits, cart, how = \"left\")\n",
    "print(visits_to_cart)"
   ]
  },
  {
   "cell_type": "code",
   "execution_count": 4,
   "id": "50ae7933-a6bb-4d54-9b80-28943f4c8e80",
   "metadata": {},
   "outputs": [
    {
     "name": "stdout",
     "output_type": "stream",
     "text": [
      "2000\n"
     ]
    }
   ],
   "source": [
    "#find how many users visited the site by finding how long the data frame is.\n",
    "print(len(visits_to_cart))"
   ]
  },
  {
   "cell_type": "code",
   "execution_count": 5,
   "id": "c3499094-a78a-4207-aaf9-afd897a8ee8e",
   "metadata": {},
   "outputs": [
    {
     "name": "stdout",
     "output_type": "stream",
     "text": [
      "1652\n"
     ]
    }
   ],
   "source": [
    "#find the number of users who did not put a t-shirt in their cart.\n",
    "print(len(visits_to_cart[visits_to_cart.cart_time.isnull()]))"
   ]
  },
  {
   "cell_type": "code",
   "execution_count": 7,
   "id": "f2bddf59-7ab1-4563-864b-b6c74fadc4ab",
   "metadata": {},
   "outputs": [
    {
     "name": "stdout",
     "output_type": "stream",
     "text": [
      "82.6\n"
     ]
    }
   ],
   "source": [
    "#find the percentage of users who did not buy a t-shirt.\n",
    "non_buyers_percentage = (len(visits_to_cart[visits_to_cart.cart_time.isnull()])/float(len(visits_to_cart)))*100\n",
    "print(non_buyers_percentage)"
   ]
  },
  {
   "cell_type": "code",
   "execution_count": 8,
   "id": "0df6ba89-229e-4c85-adf4-066e9f344917",
   "metadata": {},
   "outputs": [
    {
     "name": "stdout",
     "output_type": "stream",
     "text": [
      "                                  user_id           cart_time  \\\n",
      "0    2be90e7c-9cca-44e0-bcc5-124b945ff168 2017-11-07 20:45:00   \n",
      "1    4397f73f-1da3-4ab3-91af-762792e25973 2017-05-27 01:35:00   \n",
      "2    a9db3d4b-0a0a-4398-a55a-ebb2c7adf663 2017-03-04 10:38:00   \n",
      "3    b594862a-36c5-47d5-b818-6e9512b939b3 2017-09-27 08:22:00   \n",
      "4    a68a16e2-94f0-4ce8-8ce3-784af0bbb974 2017-07-26 15:48:00   \n",
      "..                                    ...                 ...   \n",
      "343  952be3a5-9240-484f-845c-a6b2cbed72ee 2017-05-02 05:40:00   \n",
      "344  59d2b685-383a-4fce-a325-35d985713a8b 2017-01-20 03:58:00   \n",
      "345  a1203970-92ae-4fc7-843e-e1740c1be9d5 2017-11-12 23:07:00   \n",
      "346  55de53ae-89f6-43ff-a26d-df284678aca1 2017-03-17 19:56:00   \n",
      "347  0ea4cc68-dae4-4e35-b3e0-f0889932e1b5 2017-05-12 08:53:00   \n",
      "\n",
      "          checkout_time  \n",
      "0   2017-11-07 21:14:00  \n",
      "1                   NaT  \n",
      "2   2017-03-04 11:04:00  \n",
      "3   2017-09-27 08:26:00  \n",
      "4                   NaT  \n",
      "..                  ...  \n",
      "343 2017-05-02 05:50:00  \n",
      "344                 NaT  \n",
      "345                 NaT  \n",
      "346 2017-03-17 20:04:00  \n",
      "347 2017-05-12 08:57:00  \n",
      "\n",
      "[348 rows x 3 columns]\n",
      "35.05747126436782\n"
     ]
    }
   ],
   "source": [
    "#Calculate the percentage of users put items in their cart, but did not proceed to checkout?\n",
    "\n",
    "cart_to_checkout = pd.merge(cart, checkout, how=\"left\")\n",
    "print(cart_to_checkout)\n",
    "\n",
    "non_buyers_with_carts = (len(cart_to_checkout[cart_to_checkout.checkout_time.isnull()])/float(len(cart_to_checkout)))*100\n",
    "print(non_buyers_with_carts)"
   ]
  },
  {
   "cell_type": "code",
   "execution_count": 9,
   "id": "5c9fd2b7-e363-4f25-9523-e298d6d662ed",
   "metadata": {},
   "outputs": [
    {
     "name": "stdout",
     "output_type": "stream",
     "text": [
      "                                   user_id          visit_time  \\\n",
      "0     943647ef-3682-4750-a2e1-918ba6f16188 2017-04-07 15:14:00   \n",
      "1     0c3a3dd0-fb64-4eac-bf84-ba069ce409f2 2017-01-26 14:24:00   \n",
      "2     6e0b2d60-4027-4d9a-babd-0e7d40859fb1 2017-08-20 08:23:00   \n",
      "3     6879527e-c5a6-4d14-b2da-50b85212b0ab 2017-11-04 18:15:00   \n",
      "4     a84327ff-5daa-4ba1-b789-d5b4caf81e96 2017-02-27 11:25:00   \n",
      "...                                    ...                 ...   \n",
      "2103  33913ac2-03da-45ae-8fc3-fea39df827c6 2017-03-25 03:29:00   \n",
      "2104  4f850132-b99d-4623-80e6-6e61d003577e 2017-01-08 09:57:00   \n",
      "2105  f0830b9b-1f5c-4e74-b63d-3f847cc6ce70 2017-09-07 12:56:00   \n",
      "2106  b01bffa7-63ba-4cd3-9d93-eb1477c23831 2017-07-20 04:37:00   \n",
      "2107  0336ca81-8d68-443f-9248-ac0b8ad147d5 2017-11-15 10:11:00   \n",
      "\n",
      "               cart_time       checkout_time       purchase_time  \n",
      "0                    NaT                 NaT                 NaT  \n",
      "1    2017-01-26 14:44:00 2017-01-26 14:54:00 2017-01-26 15:08:00  \n",
      "2    2017-08-20 08:31:00                 NaT                 NaT  \n",
      "3                    NaT                 NaT                 NaT  \n",
      "4                    NaT                 NaT                 NaT  \n",
      "...                  ...                 ...                 ...  \n",
      "2103                 NaT                 NaT                 NaT  \n",
      "2104                 NaT                 NaT                 NaT  \n",
      "2105                 NaT                 NaT                 NaT  \n",
      "2106                 NaT                 NaT                 NaT  \n",
      "2107                 NaT                 NaT                 NaT  \n",
      "\n",
      "[2108 rows x 5 columns]\n"
     ]
    }
   ],
   "source": [
    "#merge four files (visits, cart, checkout, and purchase) and print the data to view.\n",
    "all_data = visits.merge(cart, how = \"left\").merge(checkout, how = \"left\").merge(purchase, how = \"left\")\n",
    "print(all_data)"
   ]
  },
  {
   "cell_type": "code",
   "execution_count": 11,
   "id": "0bfc79af-35ec-4667-b146-3069f9e60095",
   "metadata": {},
   "outputs": [
    {
     "name": "stdout",
     "output_type": "stream",
     "text": [
      "88.04554079696395\n"
     ]
    }
   ],
   "source": [
    "#calculate the percentage of users who made it to checkout but did not purchase a shirt.\n",
    "print((len(all_data[all_data.purchase_time.isnull()])/float(len(all_data)))*100)"
   ]
  },
  {
   "cell_type": "code",
   "execution_count": 13,
   "id": "f6973fb2-9713-46d3-be47-176769245a33",
   "metadata": {},
   "outputs": [
    {
     "name": "stdout",
     "output_type": "stream",
     "text": [
      "                                   user_id          visit_time  \\\n",
      "0     943647ef-3682-4750-a2e1-918ba6f16188 2017-04-07 15:14:00   \n",
      "1     0c3a3dd0-fb64-4eac-bf84-ba069ce409f2 2017-01-26 14:24:00   \n",
      "2     6e0b2d60-4027-4d9a-babd-0e7d40859fb1 2017-08-20 08:23:00   \n",
      "3     6879527e-c5a6-4d14-b2da-50b85212b0ab 2017-11-04 18:15:00   \n",
      "4     a84327ff-5daa-4ba1-b789-d5b4caf81e96 2017-02-27 11:25:00   \n",
      "...                                    ...                 ...   \n",
      "2103  33913ac2-03da-45ae-8fc3-fea39df827c6 2017-03-25 03:29:00   \n",
      "2104  4f850132-b99d-4623-80e6-6e61d003577e 2017-01-08 09:57:00   \n",
      "2105  f0830b9b-1f5c-4e74-b63d-3f847cc6ce70 2017-09-07 12:56:00   \n",
      "2106  b01bffa7-63ba-4cd3-9d93-eb1477c23831 2017-07-20 04:37:00   \n",
      "2107  0336ca81-8d68-443f-9248-ac0b8ad147d5 2017-11-15 10:11:00   \n",
      "\n",
      "               cart_time       checkout_time       purchase_time  \\\n",
      "0                    NaT                 NaT                 NaT   \n",
      "1    2017-01-26 14:44:00 2017-01-26 14:54:00 2017-01-26 15:08:00   \n",
      "2    2017-08-20 08:31:00                 NaT                 NaT   \n",
      "3                    NaT                 NaT                 NaT   \n",
      "4                    NaT                 NaT                 NaT   \n",
      "...                  ...                 ...                 ...   \n",
      "2103                 NaT                 NaT                 NaT   \n",
      "2104                 NaT                 NaT                 NaT   \n",
      "2105                 NaT                 NaT                 NaT   \n",
      "2106                 NaT                 NaT                 NaT   \n",
      "2107                 NaT                 NaT                 NaT   \n",
      "\n",
      "           user_time  \n",
      "0                NaT  \n",
      "1    0 days 00:44:00  \n",
      "2                NaT  \n",
      "3                NaT  \n",
      "4                NaT  \n",
      "...              ...  \n",
      "2103             NaT  \n",
      "2104             NaT  \n",
      "2105             NaT  \n",
      "2106             NaT  \n",
      "2107             NaT  \n",
      "\n",
      "[2108 rows x 6 columns]\n"
     ]
    }
   ],
   "source": [
    "#Add a column that is the difference between purchase_time and visit_time\n",
    "all_data[\"user_time\"] = all_data.purchase_time - all_data.visit_time\n",
    "print(all_data)"
   ]
  },
  {
   "cell_type": "code",
   "execution_count": 14,
   "id": "8e013e91-00aa-43a6-ab9e-385fa403e933",
   "metadata": {},
   "outputs": [
    {
     "name": "stdout",
     "output_type": "stream",
     "text": [
      "0 days 00:43:12.380952380\n"
     ]
    }
   ],
   "source": [
    "#Calculate the average time it takes to purchase.\n",
    "average_purchase_time = all_data.user_time.mean()\n",
    "print(average_purchase_time)"
   ]
  },
  {
   "cell_type": "code",
   "execution_count": null,
   "id": "f3966881-0129-4065-b28c-e788d164118e",
   "metadata": {},
   "outputs": [],
   "source": []
  }
 ],
 "metadata": {
  "kernelspec": {
   "display_name": "Python 3 (ipykernel)",
   "language": "python",
   "name": "python3"
  },
  "language_info": {
   "codemirror_mode": {
    "name": "ipython",
    "version": 3
   },
   "file_extension": ".py",
   "mimetype": "text/x-python",
   "name": "python",
   "nbconvert_exporter": "python",
   "pygments_lexer": "ipython3",
   "version": "3.11.7"
  }
 },
 "nbformat": 4,
 "nbformat_minor": 5
}
